{
 "cells": [
  {
   "cell_type": "code",
   "execution_count": 14,
   "id": "15732a1d",
   "metadata": {},
   "outputs": [
    {
     "name": "stdout",
     "output_type": "stream",
     "text": [
      "Numero de vehiculos: 3\n",
      "Vehiculo :5\n",
      "Vehiculo :1\n",
      "Vehiculo :1\n"
     ]
    },
    {
     "data": {
      "text/plain": [
       "3.0"
      ]
     },
     "execution_count": 14,
     "metadata": {},
     "output_type": "execute_result"
    }
   ],
   "source": [
    "#esto es para Calcular el BR de batallas de Aciones ARCADE\n",
    "x=0\n",
    "br=0\n",
    "\n",
    "for indice in range(int(input('Numero de vehiculos: '))):\n",
    "    if indice==0:\n",
    "        x=float(input('Vehiculo :'))/2\n",
    "    else:\n",
    "        x=float(input('Vehiculo :'))/4\n",
    "    br+=x\n",
    "br\n",
    "    "
   ]
  }
 ],
 "metadata": {
  "kernelspec": {
   "display_name": "Python 3 (ipykernel)",
   "language": "python",
   "name": "python3"
  },
  "language_info": {
   "codemirror_mode": {
    "name": "ipython",
    "version": 3
   },
   "file_extension": ".py",
   "mimetype": "text/x-python",
   "name": "python",
   "nbconvert_exporter": "python",
   "pygments_lexer": "ipython3",
   "version": "3.11.2"
  }
 },
 "nbformat": 4,
 "nbformat_minor": 5
}
